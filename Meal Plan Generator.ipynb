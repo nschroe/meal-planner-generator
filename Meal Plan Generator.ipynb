{
 "cells": [
  {
   "cell_type": "code",
   "execution_count": 11,
   "metadata": {
    "scrolled": true
   },
   "outputs": [],
   "source": [
    "import requests\n",
    "from bs4 import BeautifulSoup\n",
    "\n",
    "URL = \"https://www.hellofresh.com/recipes/vegetarian-recipes?page=50\"\n",
    "#grabs list of vegetarian recipes from hellofresh, \n",
    "#unfortunately not a complete list of vegetarian recipes, but a large number nonetheless.\n",
    "page = requests.get(URL)\n",
    "#saves url as page\n",
    "soup = BeautifulSoup(page.content, \"html.parser\")\n",
    "#saves page as BeautifulSoup object, parsing for html\n",
    "    "
   ]
  },
  {
   "cell_type": "code",
   "execution_count": 31,
   "metadata": {
    "scrolled": true
   },
   "outputs": [],
   "source": [
    "import requests\n",
    "from bs4 import BeautifulSoup\n",
    "\n",
    "#URL = \"https://www.hellofresh.com/recipes/vegetarian-recipes?page=50\"\n",
    "#grabs list of vegetarian recipes from hellofresh, \n",
    "#unfortunately not a complete list of vegetarian recipes, but a large number nonetheless.\n",
    "f = open(\"vegetarian.html\") # generate vegetarian.html by going to above URL, letting cards load, open element inspector and copy outer HTML that includes all cards\n",
    "#saves url as page\n",
    "soup = BeautifulSoup(f, \"html.parser\")\n",
    "#saves page as BeautifulSoup object, parsing for html\n",
    "    "
   ]
  },
  {
   "cell_type": "code",
   "execution_count": 32,
   "metadata": {
    "tags": []
   },
   "outputs": [],
   "source": [
    "title_elements = [title.get_text() for title in soup.find_all('h3')]\n",
    "#looks for the title text of all h3 classes\n",
    "titles_start = title_elements.index('Dishes')+1\n",
    "#create index where recipe titles start\n",
    "titles_end = title_elements.index('Recipes by Ingredient')\n",
    "#creates an index for where the recipe titles end\n",
    "titles = title_elements[titles_start:titles_end-0]\n",
    "#creates list of cleaned recipe titles"
   ]
  },
  {
   "cell_type": "code",
   "execution_count": 33,
   "metadata": {
    "scrolled": true
   },
   "outputs": [],
   "source": [
    "text_elements2 = [link.get('href') for link in soup.find_all('a')]\n",
    "#gets all the links from the web page under the 'a' class\n",
    "target_ibdex1 = text_elements2.index('/recipes/ingredients')\n",
    "#creates index for end of link list\n",
    "target_ibdex2 = text_elements2.index('/recipes/casserole-recipes')\n",
    "#creates index for beginning of link list\n",
    "links = text_elements2[target_ibdex2+1:target_ibdex1-0]\n",
    "#creates clean list of links that correspond to title list\n",
    "\n",
    "#for i in range( len(links)):\n",
    "#    links[i] = \"https://www.hellofresh.com\" + links[i]\n",
    "#adds the full url so it's a clickable link\n",
    "#delete above url prefix as links already contains them"
   ]
  },
  {
   "cell_type": "code",
   "execution_count": 34,
   "metadata": {},
   "outputs": [
    {
     "data": {
      "text/html": [
       "<div>\n",
       "<style scoped>\n",
       "    .dataframe tbody tr th:only-of-type {\n",
       "        vertical-align: middle;\n",
       "    }\n",
       "\n",
       "    .dataframe tbody tr th {\n",
       "        vertical-align: top;\n",
       "    }\n",
       "\n",
       "    .dataframe thead th {\n",
       "        text-align: right;\n",
       "    }\n",
       "</style>\n",
       "<table border=\"1\" class=\"dataframe\">\n",
       "  <thead>\n",
       "    <tr style=\"text-align: right;\">\n",
       "      <th></th>\n",
       "      <th>Name</th>\n",
       "      <th>Link</th>\n",
       "    </tr>\n",
       "  </thead>\n",
       "  <tbody>\n",
       "    <tr>\n",
       "      <th>0</th>\n",
       "      <td>Cheese Tortelloni</td>\n",
       "      <td>https://www.hellofresh.com/recipes/cheese-tort...</td>\n",
       "    </tr>\n",
       "    <tr>\n",
       "      <th>1</th>\n",
       "      <td>Buenos Días Black Bean Bowls</td>\n",
       "      <td>https://www.hellofresh.com/recipes/buenos-dias...</td>\n",
       "    </tr>\n",
       "    <tr>\n",
       "      <th>2</th>\n",
       "      <td>Heirloom Tomato Flatbreads</td>\n",
       "      <td>https://www.hellofresh.com/recipes/heirloom-to...</td>\n",
       "    </tr>\n",
       "    <tr>\n",
       "      <th>3</th>\n",
       "      <td>Creamy Santa Fe Gemelli Bake</td>\n",
       "      <td>https://www.hellofresh.com/recipes/creamy-sant...</td>\n",
       "    </tr>\n",
       "    <tr>\n",
       "      <th>4</th>\n",
       "      <td>Creamy Dreamy Mushroom Gemelli</td>\n",
       "      <td>https://www.hellofresh.com/recipes/creamy-drea...</td>\n",
       "    </tr>\n",
       "    <tr>\n",
       "      <th>...</th>\n",
       "      <td>...</td>\n",
       "      <td>...</td>\n",
       "    </tr>\n",
       "    <tr>\n",
       "      <th>527</th>\n",
       "      <td>Black Bean &amp; Sweet Potato Bake</td>\n",
       "      <td>https://www.hellofresh.com/recipes/black-bean-...</td>\n",
       "    </tr>\n",
       "    <tr>\n",
       "      <th>528</th>\n",
       "      <td>Skillet Seitan Enchiladas</td>\n",
       "      <td>https://www.hellofresh.com/recipes/seitan-ench...</td>\n",
       "    </tr>\n",
       "    <tr>\n",
       "      <th>529</th>\n",
       "      <td>Herby Asparagus and Tomato Bake</td>\n",
       "      <td>https://www.hellofresh.com/recipes/couscous-an...</td>\n",
       "    </tr>\n",
       "    <tr>\n",
       "      <th>530</th>\n",
       "      <td>Chopped Greek Salad</td>\n",
       "      <td>https://www.hellofresh.com/recipes/greek-salad...</td>\n",
       "    </tr>\n",
       "    <tr>\n",
       "      <th>531</th>\n",
       "      <td>Roasted Vegetable Quesadillas</td>\n",
       "      <td>https://www.hellofresh.com/recipes/roasted-veg...</td>\n",
       "    </tr>\n",
       "  </tbody>\n",
       "</table>\n",
       "<p>532 rows × 2 columns</p>\n",
       "</div>"
      ],
      "text/plain": [
       "                                Name  \\\n",
       "0                  Cheese Tortelloni   \n",
       "1       Buenos Días Black Bean Bowls   \n",
       "2         Heirloom Tomato Flatbreads   \n",
       "3       Creamy Santa Fe Gemelli Bake   \n",
       "4     Creamy Dreamy Mushroom Gemelli   \n",
       "..                               ...   \n",
       "527   Black Bean & Sweet Potato Bake   \n",
       "528        Skillet Seitan Enchiladas   \n",
       "529  Herby Asparagus and Tomato Bake   \n",
       "530              Chopped Greek Salad   \n",
       "531    Roasted Vegetable Quesadillas   \n",
       "\n",
       "                                                  Link  \n",
       "0    https://www.hellofresh.com/recipes/cheese-tort...  \n",
       "1    https://www.hellofresh.com/recipes/buenos-dias...  \n",
       "2    https://www.hellofresh.com/recipes/heirloom-to...  \n",
       "3    https://www.hellofresh.com/recipes/creamy-sant...  \n",
       "4    https://www.hellofresh.com/recipes/creamy-drea...  \n",
       "..                                                 ...  \n",
       "527  https://www.hellofresh.com/recipes/black-bean-...  \n",
       "528  https://www.hellofresh.com/recipes/seitan-ench...  \n",
       "529  https://www.hellofresh.com/recipes/couscous-an...  \n",
       "530  https://www.hellofresh.com/recipes/greek-salad...  \n",
       "531  https://www.hellofresh.com/recipes/roasted-veg...  \n",
       "\n",
       "[532 rows x 2 columns]"
      ]
     },
     "execution_count": 34,
     "metadata": {},
     "output_type": "execute_result"
    }
   ],
   "source": [
    "from pandas import pandas as pd\n",
    "#importing pandas to create dataframes\n",
    "recipe_df = pd.DataFrame(list(zip(titles, links)),\n",
    "               columns =['Name', 'Link'])\n",
    "#creates dataframe with the recipe title and link to recipe\n",
    "recipe_df"
   ]
  },
  {
   "cell_type": "code",
   "execution_count": 35,
   "metadata": {},
   "outputs": [],
   "source": [
    "random_recipes = recipe_df.sample(n=2)\n",
    "#creates a sub-dataframe from the recipe dataframe above, selecting two recipes at random.\n",
    "#change n number to increase or decrease random recipe amounts. \n",
    "#(will have to add to the below code to compensate for changes)\n"
   ]
  },
  {
   "cell_type": "code",
   "execution_count": 36,
   "metadata": {},
   "outputs": [],
   "source": [
    "#First Recipe\n",
    "recipe_URL = random_recipes.iloc[0]['Link']\n",
    "#pulls string of first link\n",
    "recipe_page = requests.get(recipe_URL)\n",
    "#grabs the web page for first recipe\n",
    "recipe_soup = BeautifulSoup(recipe_page.content, \"html.parser\")\n",
    "#creates a soup object for easier html parsing\n",
    "\n",
    "#Second Recipe\n",
    "recipe_URL2 = random_recipes.iloc[1]['Link']\n",
    "#pulls string of second link\n",
    "recipe_page2 = requests.get(recipe_URL2)\n",
    "#grabs the web page for second recipe\n",
    "recipe_soup2 = BeautifulSoup(recipe_page2.content, \"html.parser\")\n",
    "#creates a soup object for easier html parsing"
   ]
  },
  {
   "cell_type": "code",
   "execution_count": 37,
   "metadata": {},
   "outputs": [],
   "source": [
    "whitelist = [\n",
    "  'p'\n",
    "]\n",
    "#Creates a whitelist of only 'p' html classes, which is where the recipe elements are.\n",
    "recipe_elements = [t for t in recipe_soup.find_all(text=True) if t.parent.name in whitelist]\n",
    "#Finds all text objects from 'p' html classes\n",
    "\n",
    "#target_ibdex = recipe_elements.index('Kosher Salt')\n",
    "#Final recipe item index\n",
    "#removed for safety; depends on salt being last ingredient\n",
    "\n",
    "target_ibdex = next(i for i,v in enumerate(recipe_elements) if i>0 and len(v)>100) #zeroth long line is description; first is instructions\n",
    "recipe_parts = recipe_elements[1:target_ibdex-0]\n",
    "#gets all the ingredients from the recipe starting from the second object to the created index\n",
    "recipe = [' '.join(recipe_parts[i:i+2]) for i in range(0, len(recipe_parts), 2)]\n",
    "#creates a list to join amounts and ingredient labels for easy viewing\n",
    "\n",
    "recipe_elements2 = [t for t in recipe_soup2.find_all(text=True) if t.parent.name in whitelist]\n",
    "#Finds all text objects from 'p' html classes\n",
    "target_ibdex3 = recipe_elements2.index('Kosher Salt')\n",
    "#Final recipe item index\n",
    "recipe_parts2 = recipe_elements2[1:target_ibdex3-0]\n",
    "#gets all the ingredients from the recipe starting from the second object to the created index\n",
    "recipe2 = [' '.join(recipe_parts2[i:i+2]) for i in range(0, len(recipe_parts2), 2)]\n",
    "#creates a list to join amounts and ingredient labels for easy viewing\n",
    "\n",
    "\n",
    "grocerylist_df = pd.DataFrame({\"ingredient\":recipe + recipe2})\n",
    "#creates dataframe of both recipe ingredients"
   ]
  },
  {
   "cell_type": "code",
   "execution_count": 38,
   "metadata": {},
   "outputs": [],
   "source": [
    "grocerylist_df_clean = grocerylist_df[grocerylist_df[\"ingredient\"].str.contains(\"unit\")==False]\n",
    "#cleans dataframe of non-ingredients"
   ]
  },
  {
   "cell_type": "code",
   "execution_count": 39,
   "metadata": {},
   "outputs": [
    {
     "name": "stdout",
     "output_type": "stream",
     "text": [
      "Creamy Dreamy Mushroom Gemelli\n",
      "Spring Greens Gnocchi\n",
      "                         ingredient\n",
      "1         8 ounce Cremini Mushrooms\n",
      "2             6 ounce Gemelli Pasta\n",
      "3                1 tablespoon Flour\n",
      "4                   6.75 ounce Milk\n",
      "5         2 tablespoon Cream Cheese\n",
      "6   2 tablespoon Garlic Herb Butter\n",
      "7             ¼ cup Parmesan Cheese\n",
      "8              2 teaspoon Olive Oil\n",
      "9               2 tablespoon Butter\n",
      "10               Kosher Salt Pepper\n",
      "11                  9 ounce Gnocchi\n",
      "12                 ¼ ounce Tarragon\n",
      "13                   2 clove Garlic\n",
      "14                     4 ounce Peas\n",
      "15                6 ounce Asparagus\n",
      "16            ¼ cup Parmesan Cheese\n",
      "17          2 tablespoon Sour Cream\n",
      "18                  1 ounce Walnuts\n",
      "19              2 tablespoon Butter\n",
      "https://www.hellofresh.com/recipes/creamy-dreamy-mushroom-gemelli-5d6e74aad611f800157039a2\n",
      "https://www.hellofresh.com/recipes/w13-r9-589cc7a2043c3c78d63a2754\n"
     ]
    }
   ],
   "source": [
    "print(random_recipes.iloc[0,0])\n",
    "#prints first recipe title\n",
    "print(random_recipes.iloc[1,0])\n",
    "#prints second recipe title\n",
    "print(grocerylist_df_clean)\n",
    "#prints clean grocery list\n",
    "print(random_recipes.iloc[0,1])\n",
    "#prints first recipe link (clickable)\n",
    "print(random_recipes.iloc[1,1])\n",
    "#prints second recipe link (clickable)"
   ]
  },
  {
   "cell_type": "code",
   "execution_count": null,
   "metadata": {},
   "outputs": [],
   "source": []
  },
  {
   "cell_type": "code",
   "execution_count": null,
   "metadata": {},
   "outputs": [],
   "source": []
  },
  {
   "cell_type": "code",
   "execution_count": null,
   "metadata": {},
   "outputs": [],
   "source": []
  }
 ],
 "metadata": {
  "kernelspec": {
   "display_name": "Python 3 (ipykernel)",
   "language": "python",
   "name": "python3"
  },
  "language_info": {
   "codemirror_mode": {
    "name": "ipython",
    "version": 3
   },
   "file_extension": ".py",
   "mimetype": "text/x-python",
   "name": "python",
   "nbconvert_exporter": "python",
   "pygments_lexer": "ipython3",
   "version": "3.9.12"
  }
 },
 "nbformat": 4,
 "nbformat_minor": 4
}
